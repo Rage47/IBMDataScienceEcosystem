{
 "cells": [
  {
   "cell_type": "markdown",
   "id": "efccf871-c469-4c32-996f-9a5b7693cf82",
   "metadata": {
    "tags": []
   },
   "source": [
    "<h1>Data Science Tools and Ecosystem</h1>"
   ]
  },
  {
   "cell_type": "markdown",
   "id": "20e62850-df99-4413-9a9f-b979ae501e06",
   "metadata": {},
   "source": [
    "In this notebook, Data Science Tools and Ecosystem are summarized."
   ]
  },
  {
   "cell_type": "markdown",
   "id": "9925d427-e9b0-42c0-a84b-a4a8944d6b3e",
   "metadata": {},
   "source": [
    "Some of the popular languages that Data Scientists use are:\n",
    "<ol>\n",
    "<li>Python</li>\n",
    "<li>SQL</li>\n",
    "<li>R</li>\n",
    "</ol>"
   ]
  },
  {
   "cell_type": "markdown",
   "id": "aff407e0-1a07-4797-926e-f39c536e2a5a",
   "metadata": {
    "tags": []
   },
   "source": [
    "Some of the commonly used libraries used by Data Scientists include:\n",
    "<ol>\n",
    "<li>NumPy</li>\n",
    "<li>Keras</li>\n",
    "<li>Pandas</li>\n",
    "</ol>"
   ]
  },
  {
   "cell_type": "markdown",
   "id": "52e127a1-7dd0-4fa7-a402-2773e45a0540",
   "metadata": {},
   "source": [
    "|Data Science Tools |\n",
    "|----:|\n",
    "|Spark |\n",
    "|Pandas|\n",
    "|Jupyter Notebooks |"
   ]
  },
  {
   "cell_type": "markdown",
   "id": "6877951c-5fc2-4c17-824e-379a82d5d474",
   "metadata": {},
   "source": [
    "<h3>Below are a few examples of evaluating arithmetic expressions in Python</h3>"
   ]
  },
  {
   "cell_type": "code",
   "execution_count": 3,
   "id": "63e90453-58fe-495e-9edc-fe67e8787a1f",
   "metadata": {
    "tags": []
   },
   "outputs": [
    {
     "data": {
      "text/plain": [
       "17"
      ]
     },
     "execution_count": 3,
     "metadata": {},
     "output_type": "execute_result"
    }
   ],
   "source": [
    "#This a simple arithmetic expression to mutiply then add integers\n",
    "(3*4)+5"
   ]
  },
  {
   "cell_type": "code",
   "execution_count": 4,
   "id": "260fa228-7abb-4ef3-8c92-a2e766392fc3",
   "metadata": {
    "tags": []
   },
   "outputs": [
    {
     "data": {
      "text/plain": [
       "3.3333333333333335"
      ]
     },
     "execution_count": 4,
     "metadata": {},
     "output_type": "execute_result"
    }
   ],
   "source": [
    "#This will convert 200 minutes to hours by diving by 60\n",
    "200/60"
   ]
  },
  {
   "cell_type": "markdown",
   "id": "1789a3ca-8a68-4c69-afbb-1108e20fc740",
   "metadata": {},
   "source": [
    "Objectives:\n",
    "<ul>\n",
    "<li>List popular languages for Data Science</li>\n",
    "<li>List popular tools for Data Science</li>\n",
    "<li>List common Git uses for Data Science</li>\n",
    "<li>R uses and first experiences for Data Science</li>\n",
    "</ul>"
   ]
  },
  {
   "cell_type": "markdown",
   "id": "3fb29c44-e396-4799-bee1-838e36b98e22",
   "metadata": {},
   "source": [
    "<h2>Author</h2>\n",
    "Alex Rotar"
   ]
  },
  {
   "cell_type": "code",
   "execution_count": null,
   "id": "a170191f-a751-4009-88ee-99dc35276ca7",
   "metadata": {},
   "outputs": [],
   "source": []
  }
 ],
 "metadata": {
  "kernelspec": {
   "display_name": "Python",
   "language": "python",
   "name": "conda-env-python-py"
  },
  "language_info": {
   "codemirror_mode": {
    "name": "ipython",
    "version": 3
   },
   "file_extension": ".py",
   "mimetype": "text/x-python",
   "name": "python",
   "nbconvert_exporter": "python",
   "pygments_lexer": "ipython3",
   "version": "3.7.12"
  }
 },
 "nbformat": 4,
 "nbformat_minor": 5
}
